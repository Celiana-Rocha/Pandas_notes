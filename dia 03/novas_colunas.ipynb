{
 "cells": [
  {
   "cell_type": "code",
   "execution_count": 1,
   "id": "00668c26-5089-42e3-8a68-be646737a163",
   "metadata": {},
   "outputs": [],
   "source": [
    "import pandas as pd"
   ]
  },
  {
   "cell_type": "code",
   "execution_count": 7,
   "id": "6c4b6e6b-9f3e-45e6-878f-e81d314d9579",
   "metadata": {},
   "outputs": [
    {
     "data": {
      "text/html": [
       "<div>\n",
       "<style scoped>\n",
       "    .dataframe tbody tr th:only-of-type {\n",
       "        vertical-align: middle;\n",
       "    }\n",
       "\n",
       "    .dataframe tbody tr th {\n",
       "        vertical-align: top;\n",
       "    }\n",
       "\n",
       "    .dataframe thead th {\n",
       "        text-align: right;\n",
       "    }\n",
       "</style>\n",
       "<table border=\"1\" class=\"dataframe\">\n",
       "  <thead>\n",
       "    <tr style=\"text-align: right;\">\n",
       "      <th></th>\n",
       "      <th>UUID;Name;Points</th>\n",
       "    </tr>\n",
       "  </thead>\n",
       "  <tbody>\n",
       "    <tr>\n",
       "      <th>0</th>\n",
       "      <td>aa3eaf74-6d9c-4859-b733-5a18a3b2f71b;afonso_rf...</td>\n",
       "    </tr>\n",
       "    <tr>\n",
       "      <th>1</th>\n",
       "      <td>2d3d2dce-d353-4961-ad39-46723efe2100;mariicmar...</td>\n",
       "    </tr>\n",
       "    <tr>\n",
       "      <th>2</th>\n",
       "      <td>ca95ef2a-5129-40f4-acbc-2ced25940032;tdlupus;421</td>\n",
       "    </tr>\n",
       "    <tr>\n",
       "      <th>3</th>\n",
       "      <td>65662aff-44d6-4f06-b9d9-07445c6e5943;kozat0;4063</td>\n",
       "    </tr>\n",
       "    <tr>\n",
       "      <th>4</th>\n",
       "      <td>98b960e7-6b7b-45b7-b7af-60bca40e04b9;gu1z17;0</td>\n",
       "    </tr>\n",
       "    <tr>\n",
       "      <th>...</th>\n",
       "      <td>...</td>\n",
       "    </tr>\n",
       "    <tr>\n",
       "      <th>785</th>\n",
       "      <td>4a36c617-b018-436a-babc-4374461ab87b;null__var;53</td>\n",
       "    </tr>\n",
       "    <tr>\n",
       "      <th>786</th>\n",
       "      <td>403db18e-941e-4e63-ba23-e63c0515876a;lmadriles;50</td>\n",
       "    </tr>\n",
       "    <tr>\n",
       "      <th>787</th>\n",
       "      <td>c9bfbbf9-db90-45a7-a72c-4118140038f4;eduardo_c...</td>\n",
       "    </tr>\n",
       "    <tr>\n",
       "      <th>788</th>\n",
       "      <td>4caa2fb3-7ed2-436d-bc35-390feebfdebe;marmschu;50</td>\n",
       "    </tr>\n",
       "    <tr>\n",
       "      <th>789</th>\n",
       "      <td>000ff655-fa9f-4baa-a108-47f581ec52a1;cajuuh;52</td>\n",
       "    </tr>\n",
       "  </tbody>\n",
       "</table>\n",
       "<p>790 rows × 1 columns</p>\n",
       "</div>"
      ],
      "text/plain": [
       "                                      UUID;Name;Points\n",
       "0    aa3eaf74-6d9c-4859-b733-5a18a3b2f71b;afonso_rf...\n",
       "1    2d3d2dce-d353-4961-ad39-46723efe2100;mariicmar...\n",
       "2     ca95ef2a-5129-40f4-acbc-2ced25940032;tdlupus;421\n",
       "3     65662aff-44d6-4f06-b9d9-07445c6e5943;kozat0;4063\n",
       "4        98b960e7-6b7b-45b7-b7af-60bca40e04b9;gu1z17;0\n",
       "..                                                 ...\n",
       "785  4a36c617-b018-436a-babc-4374461ab87b;null__var;53\n",
       "786  403db18e-941e-4e63-ba23-e63c0515876a;lmadriles;50\n",
       "787  c9bfbbf9-db90-45a7-a72c-4118140038f4;eduardo_c...\n",
       "788   4caa2fb3-7ed2-436d-bc35-390feebfdebe;marmschu;50\n",
       "789     000ff655-fa9f-4baa-a108-47f581ec52a1;cajuuh;52\n",
       "\n",
       "[790 rows x 1 columns]"
      ]
     },
     "execution_count": 7,
     "metadata": {},
     "output_type": "execute_result"
    }
   ],
   "source": [
    "df = pd.read_csv(\"../datas/customers.csv\")\n",
    "df"
   ]
  },
  {
   "cell_type": "code",
   "execution_count": null,
   "id": "2f50a208-6402-401d-974e-f7bd981251f0",
   "metadata": {},
   "outputs": [],
   "source": []
  }
 ],
 "metadata": {
  "kernelspec": {
   "display_name": "Python 3 (ipykernel)",
   "language": "python",
   "name": "python3"
  },
  "language_info": {
   "codemirror_mode": {
    "name": "ipython",
    "version": 3
   },
   "file_extension": ".py",
   "mimetype": "text/x-python",
   "name": "python",
   "nbconvert_exporter": "python",
   "pygments_lexer": "ipython3",
   "version": "3.12.4"
  }
 },
 "nbformat": 4,
 "nbformat_minor": 5
}
