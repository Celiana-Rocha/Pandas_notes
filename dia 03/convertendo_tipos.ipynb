{
 "cells": [
  {
   "cell_type": "code",
   "execution_count": 2,
   "id": "1d7290cc-999d-4e71-b55e-4183440df53c",
   "metadata": {},
   "outputs": [],
   "source": [
    "import pandas as pd"
   ]
  },
  {
   "cell_type": "code",
   "execution_count": 8,
   "id": "5eaa2ebf-9363-461b-901f-88cb73551f36",
   "metadata": {},
   "outputs": [
    {
     "data": {
      "text/html": [
       "<div>\n",
       "<style scoped>\n",
       "    .dataframe tbody tr th:only-of-type {\n",
       "        vertical-align: middle;\n",
       "    }\n",
       "\n",
       "    .dataframe tbody tr th {\n",
       "        vertical-align: top;\n",
       "    }\n",
       "\n",
       "    .dataframe thead th {\n",
       "        text-align: right;\n",
       "    }\n",
       "</style>\n",
       "<table border=\"1\" class=\"dataframe\">\n",
       "  <thead>\n",
       "    <tr style=\"text-align: right;\">\n",
       "      <th></th>\n",
       "      <th>UUID</th>\n",
       "      <th>Name</th>\n",
       "      <th>Points</th>\n",
       "    </tr>\n",
       "  </thead>\n",
       "  <tbody>\n",
       "    <tr>\n",
       "      <th>0</th>\n",
       "      <td>aa3eaf74-6d9c-4859-b733-5a18a3b2f71b</td>\n",
       "      <td>afonso_rf</td>\n",
       "      <td>792</td>\n",
       "    </tr>\n",
       "    <tr>\n",
       "      <th>1</th>\n",
       "      <td>2d3d2dce-d353-4961-ad39-46723efe2100</td>\n",
       "      <td>mariicmartins</td>\n",
       "      <td>1375</td>\n",
       "    </tr>\n",
       "    <tr>\n",
       "      <th>2</th>\n",
       "      <td>ca95ef2a-5129-40f4-acbc-2ced25940032</td>\n",
       "      <td>tdlupus</td>\n",
       "      <td>421</td>\n",
       "    </tr>\n",
       "    <tr>\n",
       "      <th>3</th>\n",
       "      <td>65662aff-44d6-4f06-b9d9-07445c6e5943</td>\n",
       "      <td>kozat0</td>\n",
       "      <td>4063</td>\n",
       "    </tr>\n",
       "    <tr>\n",
       "      <th>4</th>\n",
       "      <td>98b960e7-6b7b-45b7-b7af-60bca40e04b9</td>\n",
       "      <td>gu1z17</td>\n",
       "      <td>0</td>\n",
       "    </tr>\n",
       "    <tr>\n",
       "      <th>...</th>\n",
       "      <td>...</td>\n",
       "      <td>...</td>\n",
       "      <td>...</td>\n",
       "    </tr>\n",
       "    <tr>\n",
       "      <th>785</th>\n",
       "      <td>4a36c617-b018-436a-babc-4374461ab87b</td>\n",
       "      <td>null__var</td>\n",
       "      <td>53</td>\n",
       "    </tr>\n",
       "    <tr>\n",
       "      <th>786</th>\n",
       "      <td>403db18e-941e-4e63-ba23-e63c0515876a</td>\n",
       "      <td>lmadriles</td>\n",
       "      <td>50</td>\n",
       "    </tr>\n",
       "    <tr>\n",
       "      <th>787</th>\n",
       "      <td>c9bfbbf9-db90-45a7-a72c-4118140038f4</td>\n",
       "      <td>eduardo_cofferri</td>\n",
       "      <td>50</td>\n",
       "    </tr>\n",
       "    <tr>\n",
       "      <th>788</th>\n",
       "      <td>4caa2fb3-7ed2-436d-bc35-390feebfdebe</td>\n",
       "      <td>marmschu</td>\n",
       "      <td>50</td>\n",
       "    </tr>\n",
       "    <tr>\n",
       "      <th>789</th>\n",
       "      <td>000ff655-fa9f-4baa-a108-47f581ec52a1</td>\n",
       "      <td>cajuuh</td>\n",
       "      <td>52</td>\n",
       "    </tr>\n",
       "  </tbody>\n",
       "</table>\n",
       "<p>790 rows × 3 columns</p>\n",
       "</div>"
      ],
      "text/plain": [
       "                                     UUID              Name  Points\n",
       "0    aa3eaf74-6d9c-4859-b733-5a18a3b2f71b         afonso_rf     792\n",
       "1    2d3d2dce-d353-4961-ad39-46723efe2100     mariicmartins    1375\n",
       "2    ca95ef2a-5129-40f4-acbc-2ced25940032           tdlupus     421\n",
       "3    65662aff-44d6-4f06-b9d9-07445c6e5943            kozat0    4063\n",
       "4    98b960e7-6b7b-45b7-b7af-60bca40e04b9            gu1z17       0\n",
       "..                                    ...               ...     ...\n",
       "785  4a36c617-b018-436a-babc-4374461ab87b         null__var      53\n",
       "786  403db18e-941e-4e63-ba23-e63c0515876a         lmadriles      50\n",
       "787  c9bfbbf9-db90-45a7-a72c-4118140038f4  eduardo_cofferri      50\n",
       "788  4caa2fb3-7ed2-436d-bc35-390feebfdebe          marmschu      50\n",
       "789  000ff655-fa9f-4baa-a108-47f581ec52a1            cajuuh      52\n",
       "\n",
       "[790 rows x 3 columns]"
      ]
     },
     "execution_count": 8,
     "metadata": {},
     "output_type": "execute_result"
    }
   ],
   "source": [
    "df = pd.read_csv(\"../datas/customers.csv\", sep= \";\")\n",
    "df"
   ]
  },
  {
   "cell_type": "code",
   "execution_count": 10,
   "id": "d5955bd2-9187-477e-8625-0d69c8c2d3de",
   "metadata": {},
   "outputs": [
    {
     "data": {
      "text/plain": [
       "UUID      object\n",
       "Name      object\n",
       "Points     int64\n",
       "dtype: object"
      ]
     },
     "execution_count": 10,
     "metadata": {},
     "output_type": "execute_result"
    }
   ],
   "source": [
    "df.dtypes"
   ]
  },
  {
   "cell_type": "code",
   "execution_count": 12,
   "id": "d3cf6b79-16af-4d45-a63e-7e794f2f93eb",
   "metadata": {},
   "outputs": [
    {
     "data": {
      "text/plain": [
       "0       792\n",
       "1      1375\n",
       "2       421\n",
       "3      4063\n",
       "4         0\n",
       "       ... \n",
       "785      53\n",
       "786      50\n",
       "787      50\n",
       "788      50\n",
       "789      52\n",
       "Name: Points, Length: 790, dtype: object"
      ]
     },
     "execution_count": 12,
     "metadata": {},
     "output_type": "execute_result"
    }
   ],
   "source": [
    "df[\"Points\"].astype(str)"
   ]
  },
  {
   "cell_type": "markdown",
   "id": "3563a8b5-a0c2-457a-b95d-462c379b5e52",
   "metadata": {},
   "source": [
    "conversão de csv interio de uma vez explicada\n",
    "-\n",
    "- é possivel porem para isso e necessario ter conhecimento dos dados presentes em todo o csv apra nao gerar erros\n",
    "- para a realizacao disso aplique .astype(int ou float ou str), é necessario a criação de uma lista com os nomes das colunas acredito eu df[['nomes']].astype(tipo)"
   ]
  },
  {
   "cell_type": "code",
   "execution_count": null,
   "id": "0297927f-ee60-4170-8e7f-58f30af35d81",
   "metadata": {},
   "outputs": [],
   "source": []
  }
 ],
 "metadata": {
  "kernelspec": {
   "display_name": "Python 3 (ipykernel)",
   "language": "python",
   "name": "python3"
  },
  "language_info": {
   "codemirror_mode": {
    "name": "ipython",
    "version": 3
   },
   "file_extension": ".py",
   "mimetype": "text/x-python",
   "name": "python",
   "nbconvert_exporter": "python",
   "pygments_lexer": "ipython3",
   "version": "3.12.4"
  }
 },
 "nbformat": 4,
 "nbformat_minor": 5
}
