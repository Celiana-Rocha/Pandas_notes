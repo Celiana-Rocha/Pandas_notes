{
 "cells": [
  {
   "cell_type": "code",
   "execution_count": 7,
   "id": "ab47c365-5e4f-48f0-97e1-7a818891c17c",
   "metadata": {},
   "outputs": [],
   "source": [
    "import pandas as pd"
   ]
  },
  {
   "cell_type": "code",
   "execution_count": 61,
   "id": "7baf93c2-bbb7-4320-90dd-d323a3cb0560",
   "metadata": {},
   "outputs": [],
   "source": [
    "data = {\n",
    "    'Nome': ['Téo', 'Nah', 'Maria', 'Nah', 'Lara', 'Téo'],\n",
    "    'Idade': [32, 33, 2, 33, 31, 32],\n",
    "    'updated_at': [1, 2, 3, 1 ,2, 3]\n",
    "}\n"
   ]
  },
  {
   "cell_type": "markdown",
   "id": "ad518539-a552-4a24-881a-6b12377e0f3b",
   "metadata": {},
   "source": [
    "Removendo duplicatas\n",
    "-\n",
    " para isso use o .drop_duplicates()\n",
    "- nao atualiza o original"
   ]
  },
  {
   "cell_type": "code",
   "execution_count": 40,
   "id": "7f6ef308-3496-4585-a148-f091baf11384",
   "metadata": {},
   "outputs": [
    {
     "data": {
      "text/html": [
       "<div>\n",
       "<style scoped>\n",
       "    .dataframe tbody tr th:only-of-type {\n",
       "        vertical-align: middle;\n",
       "    }\n",
       "\n",
       "    .dataframe tbody tr th {\n",
       "        vertical-align: top;\n",
       "    }\n",
       "\n",
       "    .dataframe thead th {\n",
       "        text-align: right;\n",
       "    }\n",
       "</style>\n",
       "<table border=\"1\" class=\"dataframe\">\n",
       "  <thead>\n",
       "    <tr style=\"text-align: right;\">\n",
       "      <th></th>\n",
       "      <th>Nome</th>\n",
       "      <th>Idade</th>\n",
       "    </tr>\n",
       "  </thead>\n",
       "  <tbody>\n",
       "    <tr>\n",
       "      <th>0</th>\n",
       "      <td>Téo</td>\n",
       "      <td>32</td>\n",
       "    </tr>\n",
       "    <tr>\n",
       "      <th>1</th>\n",
       "      <td>Nah</td>\n",
       "      <td>33</td>\n",
       "    </tr>\n",
       "    <tr>\n",
       "      <th>2</th>\n",
       "      <td>Maria</td>\n",
       "      <td>2</td>\n",
       "    </tr>\n",
       "    <tr>\n",
       "      <th>4</th>\n",
       "      <td>Lara</td>\n",
       "      <td>31</td>\n",
       "    </tr>\n",
       "  </tbody>\n",
       "</table>\n",
       "</div>"
      ],
      "text/plain": [
       "    Nome  Idade\n",
       "0    Téo     32\n",
       "1    Nah     33\n",
       "2  Maria      2\n",
       "4   Lara     31"
      ]
     },
     "execution_count": 40,
     "metadata": {},
     "output_type": "execute_result"
    }
   ],
   "source": [
    "df = pd.DataFrame(data)\n",
    "df.drop_duplicates()"
   ]
  },
  {
   "cell_type": "markdown",
   "id": "99fee854-56a6-42c2-923e-b7abc10db75d",
   "metadata": {},
   "source": [
    "como remover apenas duplicatas de determinadas colunas\n",
    "- \n",
    "- para filtras apenas por determinadas colunas a melhor forma seria usando SUBSET=['coluna', 'coluna'], mas existe um porem quando usamos apenas isto ele prioriza por ordem de linhas e nao pr ordem de atualização, um atributo que existe para ajudar nisso é p KEEP= nele podemos atribuir 'last', 'first', sendo seu default o first que é manter o primeiro valor encontrado, ja 'last' o ultimo.\n",
    "\n",
    "diquinha do Téo\n",
    "-\n",
    "sempre faca uma sort_values() nas colunas e um ascending= por ordem False(contraria da padrão)\n",
    "pq assim ordena os valores pela logica de que as linhas debaixo são as linhas mais atulizadas\n",
    "Fazendo o sort_values estamos garantindo os dados na ordem correta.\n",
    "\n",
    "DROP_DUPLICATES()\n",
    "- \n",
    "nosso querido drop_duplicate possui atributos que nos ajudam na hora de filtrar por colunas \n",
    "\n",
    "- usamos o subset= para isso passamos uma lista para ele com os nomes das colunas desejadas, logo apos o KEEp que nos enrtega sua ordem de prioridade."
   ]
  },
  {
   "cell_type": "code",
   "execution_count": 67,
   "id": "4dd7f5b5-6df2-4ba7-ab1c-a07a69c9e1b2",
   "metadata": {},
   "outputs": [
    {
     "data": {
      "text/html": [
       "<div>\n",
       "<style scoped>\n",
       "    .dataframe tbody tr th:only-of-type {\n",
       "        vertical-align: middle;\n",
       "    }\n",
       "\n",
       "    .dataframe tbody tr th {\n",
       "        vertical-align: top;\n",
       "    }\n",
       "\n",
       "    .dataframe thead th {\n",
       "        text-align: right;\n",
       "    }\n",
       "</style>\n",
       "<table border=\"1\" class=\"dataframe\">\n",
       "  <thead>\n",
       "    <tr style=\"text-align: right;\">\n",
       "      <th></th>\n",
       "      <th>Nome</th>\n",
       "      <th>Idade</th>\n",
       "      <th>updated_at</th>\n",
       "    </tr>\n",
       "  </thead>\n",
       "  <tbody>\n",
       "    <tr>\n",
       "      <th>2</th>\n",
       "      <td>Maria</td>\n",
       "      <td>2</td>\n",
       "      <td>3</td>\n",
       "    </tr>\n",
       "    <tr>\n",
       "      <th>5</th>\n",
       "      <td>Téo</td>\n",
       "      <td>32</td>\n",
       "      <td>3</td>\n",
       "    </tr>\n",
       "    <tr>\n",
       "      <th>1</th>\n",
       "      <td>Nah</td>\n",
       "      <td>33</td>\n",
       "      <td>2</td>\n",
       "    </tr>\n",
       "    <tr>\n",
       "      <th>4</th>\n",
       "      <td>Lara</td>\n",
       "      <td>31</td>\n",
       "      <td>2</td>\n",
       "    </tr>\n",
       "  </tbody>\n",
       "</table>\n",
       "</div>"
      ],
      "text/plain": [
       "    Nome  Idade  updated_at\n",
       "2  Maria      2           3\n",
       "5    Téo     32           3\n",
       "1    Nah     33           2\n",
       "4   Lara     31           2"
      ]
     },
     "execution_count": 67,
     "metadata": {},
     "output_type": "execute_result"
    }
   ],
   "source": [
    "df = pd.DataFrame(data)\n",
    "df = (df.sort_values(by= 'updated_at', ascending=False).drop_duplicates(subset= ['Nome', 'Idade'], keep='first'))\n",
    "df"
   ]
  },
  {
   "cell_type": "code",
   "execution_count": null,
   "id": "699a2454-8f2f-4f82-b49b-4774dcbf3928",
   "metadata": {},
   "outputs": [],
   "source": []
  }
 ],
 "metadata": {
  "kernelspec": {
   "display_name": "Python 3 (ipykernel)",
   "language": "python",
   "name": "python3"
  },
  "language_info": {
   "codemirror_mode": {
    "name": "ipython",
    "version": 3
   },
   "file_extension": ".py",
   "mimetype": "text/x-python",
   "name": "python",
   "nbconvert_exporter": "python",
   "pygments_lexer": "ipython3",
   "version": "3.12.4"
  }
 },
 "nbformat": 4,
 "nbformat_minor": 5
}
