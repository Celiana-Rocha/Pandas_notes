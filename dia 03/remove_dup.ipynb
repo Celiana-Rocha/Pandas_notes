{
 "cells": [
  {
   "cell_type": "code",
   "execution_count": 1,
   "id": "ab47c365-5e4f-48f0-97e1-7a818891c17c",
   "metadata": {},
   "outputs": [],
   "source": [
    "import pandas as pd"
   ]
  },
  {
   "cell_type": "code",
   "execution_count": null,
   "id": "7baf93c2-bbb7-4320-90dd-d323a3cb0560",
   "metadata": {},
   "outputs": [],
   "source": [
    "data = {\n",
    "    'Nome': ['Téo', 'Nah', 'Maria', 'Nah', 'Lara', 'Téo'],\n",
    "        'Idade': [32, 33, 2, 33, 31, 32],\n",
    "}\n",
    "\n",
    "df = pd.DataFrame(data)\n",
    "df"
   ]
  }
 ],
 "metadata": {
  "kernelspec": {
   "display_name": "Python 3 (ipykernel)",
   "language": "python",
   "name": "python3"
  },
  "language_info": {
   "codemirror_mode": {
    "name": "ipython",
    "version": 3
   },
   "file_extension": ".py",
   "mimetype": "text/x-python",
   "name": "python",
   "nbconvert_exporter": "python",
   "pygments_lexer": "ipython3",
   "version": "3.12.4"
  }
 },
 "nbformat": 4,
 "nbformat_minor": 5
}
