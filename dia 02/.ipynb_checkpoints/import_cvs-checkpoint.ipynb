{
 "cells": [
  {
   "cell_type": "code",
   "execution_count": 4,
   "id": "11b78438-bcd6-452d-a46f-f06fff9cf690",
   "metadata": {},
   "outputs": [],
   "source": [
    "import pandas as pd"
   ]
  },
  {
   "cell_type": "code",
   "execution_count": 97,
   "id": "41706f7a-2575-4d8a-832b-58a64e92872c",
   "metadata": {},
   "outputs": [
    {
     "data": {
      "text/html": [
       "<div>\n",
       "<style scoped>\n",
       "    .dataframe tbody tr th:only-of-type {\n",
       "        vertical-align: middle;\n",
       "    }\n",
       "\n",
       "    .dataframe tbody tr th {\n",
       "        vertical-align: top;\n",
       "    }\n",
       "\n",
       "    .dataframe thead th {\n",
       "        text-align: right;\n",
       "    }\n",
       "</style>\n",
       "<table border=\"1\" class=\"dataframe\">\n",
       "  <thead>\n",
       "    <tr style=\"text-align: right;\">\n",
       "      <th></th>\n",
       "      <th>UUID</th>\n",
       "      <th>Name</th>\n",
       "      <th>Points</th>\n",
       "    </tr>\n",
       "  </thead>\n",
       "  <tbody>\n",
       "    <tr>\n",
       "      <th>0</th>\n",
       "      <td>aa3eaf74-6d9c-4859-b733-5a18a3b2f71b</td>\n",
       "      <td>afonso_rf</td>\n",
       "      <td>792</td>\n",
       "    </tr>\n",
       "    <tr>\n",
       "      <th>1</th>\n",
       "      <td>2d3d2dce-d353-4961-ad39-46723efe2100</td>\n",
       "      <td>mariicmartins</td>\n",
       "      <td>1375</td>\n",
       "    </tr>\n",
       "    <tr>\n",
       "      <th>2</th>\n",
       "      <td>ca95ef2a-5129-40f4-acbc-2ced25940032</td>\n",
       "      <td>tdlupus</td>\n",
       "      <td>421</td>\n",
       "    </tr>\n",
       "    <tr>\n",
       "      <th>3</th>\n",
       "      <td>65662aff-44d6-4f06-b9d9-07445c6e5943</td>\n",
       "      <td>kozat0</td>\n",
       "      <td>4063</td>\n",
       "    </tr>\n",
       "    <tr>\n",
       "      <th>4</th>\n",
       "      <td>98b960e7-6b7b-45b7-b7af-60bca40e04b9</td>\n",
       "      <td>gu1z17</td>\n",
       "      <td>0</td>\n",
       "    </tr>\n",
       "    <tr>\n",
       "      <th>...</th>\n",
       "      <td>...</td>\n",
       "      <td>...</td>\n",
       "      <td>...</td>\n",
       "    </tr>\n",
       "    <tr>\n",
       "      <th>785</th>\n",
       "      <td>4a36c617-b018-436a-babc-4374461ab87b</td>\n",
       "      <td>null__var</td>\n",
       "      <td>53</td>\n",
       "    </tr>\n",
       "    <tr>\n",
       "      <th>786</th>\n",
       "      <td>403db18e-941e-4e63-ba23-e63c0515876a</td>\n",
       "      <td>lmadriles</td>\n",
       "      <td>50</td>\n",
       "    </tr>\n",
       "    <tr>\n",
       "      <th>787</th>\n",
       "      <td>c9bfbbf9-db90-45a7-a72c-4118140038f4</td>\n",
       "      <td>eduardo_cofferri</td>\n",
       "      <td>50</td>\n",
       "    </tr>\n",
       "    <tr>\n",
       "      <th>788</th>\n",
       "      <td>4caa2fb3-7ed2-436d-bc35-390feebfdebe</td>\n",
       "      <td>marmschu</td>\n",
       "      <td>50</td>\n",
       "    </tr>\n",
       "    <tr>\n",
       "      <th>789</th>\n",
       "      <td>000ff655-fa9f-4baa-a108-47f581ec52a1</td>\n",
       "      <td>cajuuh</td>\n",
       "      <td>52</td>\n",
       "    </tr>\n",
       "  </tbody>\n",
       "</table>\n",
       "<p>790 rows × 3 columns</p>\n",
       "</div>"
      ],
      "text/plain": [
       "                                     UUID              Name  Points\n",
       "0    aa3eaf74-6d9c-4859-b733-5a18a3b2f71b         afonso_rf     792\n",
       "1    2d3d2dce-d353-4961-ad39-46723efe2100     mariicmartins    1375\n",
       "2    ca95ef2a-5129-40f4-acbc-2ced25940032           tdlupus     421\n",
       "3    65662aff-44d6-4f06-b9d9-07445c6e5943            kozat0    4063\n",
       "4    98b960e7-6b7b-45b7-b7af-60bca40e04b9            gu1z17       0\n",
       "..                                    ...               ...     ...\n",
       "785  4a36c617-b018-436a-babc-4374461ab87b         null__var      53\n",
       "786  403db18e-941e-4e63-ba23-e63c0515876a         lmadriles      50\n",
       "787  c9bfbbf9-db90-45a7-a72c-4118140038f4  eduardo_cofferri      50\n",
       "788  4caa2fb3-7ed2-436d-bc35-390feebfdebe          marmschu      50\n",
       "789  000ff655-fa9f-4baa-a108-47f581ec52a1            cajuuh      52\n",
       "\n",
       "[790 rows x 3 columns]"
      ]
     },
     "execution_count": 97,
     "metadata": {},
     "output_type": "execute_result"
    }
   ],
   "source": [
    "# lendo os arquivos os [..] serve para informa que esta uma pasta para tras\n",
    "df_custumers = pd.read_csv('../datas/customers.csv', sep = ';')\n",
    "df_custumers"
   ]
  },
  {
   "cell_type": "code",
   "execution_count": 99,
   "id": "6416acc5-2def-4772-8ca6-378bbf177e7e",
   "metadata": {},
   "outputs": [
    {
     "data": {
      "text/plain": [
       "(790, 3)"
      ]
     },
     "execution_count": 99,
     "metadata": {},
     "output_type": "execute_result"
    }
   ],
   "source": [
    "# PARA SABER QUANTIDADE DE LINHAS E COLUNAS \n",
    "df_custumers.shape"
   ]
  },
  {
   "cell_type": "code",
   "execution_count": 101,
   "id": "6298f298-c1f9-49f9-9cb7-7adfb5680c96",
   "metadata": {},
   "outputs": [
    {
     "name": "stdout",
     "output_type": "stream",
     "text": [
      "<class 'pandas.core.frame.DataFrame'>\n",
      "RangeIndex: 790 entries, 0 to 789\n",
      "Data columns (total 3 columns):\n",
      " #   Column  Non-Null Count  Dtype \n",
      "---  ------  --------------  ----- \n",
      " 0   UUID    790 non-null    object\n",
      " 1   Name    790 non-null    object\n",
      " 2   Points  790 non-null    int64 \n",
      "dtypes: int64(1), object(2)\n",
      "memory usage: 117.6 KB\n"
     ]
    }
   ],
   "source": [
    "# PARA SABER QUANTO DE MEMORIA ESTA USANDO\n",
    "df_custumers.info(memory_usage = 'deep')"
   ]
  },
  {
   "cell_type": "code",
   "execution_count": 107,
   "id": "39d87a11-b0f3-4a25-8d9e-e7d249bd54b3",
   "metadata": {},
   "outputs": [
    {
     "data": {
      "text/plain": [
       "count     790.000000\n",
       "mean      206.896203\n",
       "std       411.808506\n",
       "min         0.000000\n",
       "25%        50.000000\n",
       "50%        58.000000\n",
       "75%       185.000000\n",
       "max      4304.000000\n",
       "Name: Points, dtype: float64"
      ]
     },
     "execution_count": 107,
     "metadata": {},
     "output_type": "execute_result"
    }
   ],
   "source": [
    "#PARA SABER QUANTIDADE DE PONTOS\n",
    "#tranformando coluna em numerica\n",
    "#df_custumers['Points'] = pd.to_numeric(df_custumers['Points'])\n",
    "df_custumers['Points'].describe()"
   ]
  },
  {
   "cell_type": "code",
   "execution_count": 109,
   "id": "8519042e-f1ba-4bbc-98a9-f84e9d22bb88",
   "metadata": {},
   "outputs": [
    {
     "data": {
      "text/plain": [
       "UUID      fecbdf63-3bf4-44e5-8b1a-0acc9d963603\n",
       "Name                                   zsahist\n",
       "Points                                    4304\n",
       "dtype: object"
      ]
     },
     "execution_count": 109,
     "metadata": {},
     "output_type": "execute_result"
    }
   ],
   "source": [
    "# quem pussui o maximo de pontos \n",
    "df_custumers.max()"
   ]
  },
  {
   "cell_type": "code",
   "execution_count": null,
   "id": "71965e54-546c-4ece-b16b-e3e5a8359d40",
   "metadata": {},
   "outputs": [],
   "source": []
  }
 ],
 "metadata": {
  "kernelspec": {
   "display_name": "Python 3 (ipykernel)",
   "language": "python",
   "name": "python3"
  },
  "language_info": {
   "codemirror_mode": {
    "name": "ipython",
    "version": 3
   },
   "file_extension": ".py",
   "mimetype": "text/x-python",
   "name": "python",
   "nbconvert_exporter": "python",
   "pygments_lexer": "ipython3",
   "version": "3.12.4"
  }
 },
 "nbformat": 4,
 "nbformat_minor": 5
}
