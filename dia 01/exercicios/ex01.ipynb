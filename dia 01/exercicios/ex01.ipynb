{
 "cells": [
  {
   "cell_type": "markdown",
   "id": "7a5ea8fb-cf4f-4cb4-8483-d98f404984bf",
   "metadata": {},
   "source": [
    "Converta a seguinte lista de dados para uma Series Pandas e obtenha:\r\n",
    "Média\r\n",
    "Desvio Padrão\r\n",
    "Máximo Valor\r\n",
    "\r\n",
    "dados = [10, 20, 42, 9, 12, 35, 24, 10, 8, 14, 21]\r\n"
   ]
  },
  {
   "cell_type": "code",
   "execution_count": 2,
   "id": "157bbcf6-e35a-412b-b5b5-e700c89df270",
   "metadata": {},
   "outputs": [],
   "source": [
    "import pandas as pd"
   ]
  },
  {
   "cell_type": "code",
   "execution_count": 4,
   "id": "cf36b5a5-fb1a-4e3c-83d5-8ae74f39622a",
   "metadata": {},
   "outputs": [
    {
     "data": {
      "text/plain": [
       "[10, 20, 42, 9, 12, 35, 24, 10, 8, 14, 21]"
      ]
     },
     "execution_count": 4,
     "metadata": {},
     "output_type": "execute_result"
    }
   ],
   "source": [
    "dados = [10, 20, 42, 9, 12, 35, 24, 10, 8, 14, 21]\n",
    "dados"
   ]
  },
  {
   "cell_type": "code",
   "execution_count": 18,
   "id": "f946ad8b-d1d8-4d0b-84ea-f1729f3ace6e",
   "metadata": {},
   "outputs": [],
   "source": [
    "dados_series = pd.Series(dados)"
   ]
  },
  {
   "cell_type": "code",
   "execution_count": 27,
   "id": "6b6c56ac-79c1-4d06-bfef-fa4c6c89151a",
   "metadata": {},
   "outputs": [
    {
     "data": {
      "text/plain": [
       "18.636363636363637"
      ]
     },
     "execution_count": 27,
     "metadata": {},
     "output_type": "execute_result"
    }
   ],
   "source": [
    "media = dados_series.mean()\n",
    "media"
   ]
  },
  {
   "cell_type": "code",
   "execution_count": 29,
   "id": "9c2646f7-3db4-435c-9ecc-afbcdc9e1ab0",
   "metadata": {},
   "outputs": [
    {
     "data": {
      "text/plain": [
       "11.271847472998623"
      ]
     },
     "execution_count": 29,
     "metadata": {},
     "output_type": "execute_result"
    }
   ],
   "source": [
    "desvio = dados_series.std()\n",
    "desvio"
   ]
  },
  {
   "cell_type": "code",
   "execution_count": 36,
   "id": "8cbc470b-c307-44c1-97da-3a3920f1041d",
   "metadata": {},
   "outputs": [
    {
     "data": {
      "text/plain": [
       "42"
      ]
     },
     "execution_count": 36,
     "metadata": {},
     "output_type": "execute_result"
    }
   ],
   "source": [
    "maximo = dados_series.max()\n",
    "maximo"
   ]
  },
  {
   "cell_type": "code",
   "execution_count": null,
   "id": "35526bed-3101-491c-ab1d-c060d6fb1993",
   "metadata": {},
   "outputs": [],
   "source": []
  }
 ],
 "metadata": {
  "kernelspec": {
   "display_name": "Python 3 (ipykernel)",
   "language": "python",
   "name": "python3"
  },
  "language_info": {
   "codemirror_mode": {
    "name": "ipython",
    "version": 3
   },
   "file_extension": ".py",
   "mimetype": "text/x-python",
   "name": "python",
   "nbconvert_exporter": "python",
   "pygments_lexer": "ipython3",
   "version": "3.12.4"
  }
 },
 "nbformat": 4,
 "nbformat_minor": 5
}
