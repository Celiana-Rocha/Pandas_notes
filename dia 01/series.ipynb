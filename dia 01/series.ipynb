{
 "cells": [
  {
   "cell_type": "code",
   "execution_count": 1,
   "id": "76278912-5115-4bca-8820-4a11d30ed2d3",
   "metadata": {},
   "outputs": [],
   "source": [
    "import pandas as pd"
   ]
  },
  {
   "cell_type": "code",
   "execution_count": 8,
   "id": "6b3d0881-ec8d-4ff7-949b-63f2772f94e1",
   "metadata": {},
   "outputs": [
    {
     "data": {
      "text/plain": [
       "[30, 42, 90, 34]"
      ]
     },
     "execution_count": 8,
     "metadata": {},
     "output_type": "execute_result"
    }
   ],
   "source": [
    "idades = [30, 42, 90, 34]\n",
    "idades"
   ]
  },
  {
   "cell_type": "code",
   "execution_count": 10,
   "id": "1d9c885d-fe44-421b-bbcf-877ab2c91973",
   "metadata": {},
   "outputs": [
    {
     "data": {
      "text/plain": [
       "772.0"
      ]
     },
     "execution_count": 10,
     "metadata": {},
     "output_type": "execute_result"
    }
   ],
   "source": [
    "media = sum(idades) / len(idades)\n",
    "\n",
    "total = 0\n",
    "for i in idades:\n",
    "    total += (media - i) **2\n",
    "\n",
    "variancia = total / (len(idades) - 1)\n",
    "\n",
    "variancia"
   ]
  },
  {
   "cell_type": "code",
   "execution_count": 18,
   "id": "0383c678-5c28-453b-af31-7c1e1f1d7b50",
   "metadata": {},
   "outputs": [
    {
     "data": {
      "text/plain": [
       "0    30\n",
       "1    42\n",
       "2    90\n",
       "3    34\n",
       "dtype: int64"
      ]
     },
     "execution_count": 18,
     "metadata": {},
     "output_type": "execute_result"
    }
   ],
   "source": [
    "# tranformacao de lisat para series panda / no parenteses de 'Series' poe os valorer que quer dentro da serie\n",
    "series_idades = pd.Series(idades)\n",
    "series_idades"
   ]
  },
  {
   "cell_type": "code",
   "execution_count": 28,
   "id": "e1da534f-4638-43e3-982f-0366bf2e2692",
   "metadata": {},
   "outputs": [
    {
     "data": {
      "text/plain": [
       "49.0"
      ]
     },
     "execution_count": 28,
     "metadata": {},
     "output_type": "execute_result"
    }
   ],
   "source": [
    "# media dos valores presentes na serie\n",
    "series_idades.mean()"
   ]
  },
  {
   "cell_type": "code",
   "execution_count": 30,
   "id": "2d8d40fc-9f8a-4e31-851e-ee2dd32b5290",
   "metadata": {},
   "outputs": [
    {
     "data": {
      "text/plain": [
       "772.0"
      ]
     },
     "execution_count": 30,
     "metadata": {},
     "output_type": "execute_result"
    }
   ],
   "source": [
    "# variancia dos dados dentro da serie\n",
    "series_idades.var()"
   ]
  },
  {
   "cell_type": "code",
   "execution_count": 32,
   "id": "46d7cd7e-1f57-434c-9693-2dd2b872152c",
   "metadata": {},
   "outputs": [
    {
     "data": {
      "text/plain": [
       "38.0"
      ]
     },
     "execution_count": 32,
     "metadata": {},
     "output_type": "execute_result"
    }
   ],
   "source": [
    "# meadiana \n",
    "series_idades.median()"
   ]
  },
  {
   "cell_type": "code",
   "execution_count": 34,
   "id": "9cd4c7f2-344d-4567-95c0-8b708ca2eb77",
   "metadata": {},
   "outputs": [
    {
     "data": {
      "text/plain": [
       "27.784887978899608"
      ]
     },
     "execution_count": 34,
     "metadata": {},
     "output_type": "execute_result"
    }
   ],
   "source": [
    "# desvio de padrão\n",
    "series_idades.std()"
   ]
  },
  {
   "cell_type": "code",
   "execution_count": 36,
   "id": "63ba38a9-e3bc-4512-b24a-0181e9d55e52",
   "metadata": {},
   "outputs": [
    {
     "data": {
      "text/plain": [
       "count     4.000000\n",
       "mean     49.000000\n",
       "std      27.784888\n",
       "min      30.000000\n",
       "25%      33.000000\n",
       "50%      38.000000\n",
       "75%      54.000000\n",
       "max      90.000000\n",
       "dtype: float64"
      ]
     },
     "execution_count": 36,
     "metadata": {},
     "output_type": "execute_result"
    }
   ],
   "source": [
    "# describe descreve os dados e entrega uma visao geral \n",
    "series_idades.describe()"
   ]
  },
  {
   "cell_type": "code",
   "execution_count": 38,
   "id": "d8f674ba-fc54-46dd-afbd-e0c87374433a",
   "metadata": {},
   "outputs": [
    {
     "data": {
      "text/plain": [
       "(4,)"
      ]
     },
     "execution_count": 38,
     "metadata": {},
     "output_type": "execute_result"
    }
   ],
   "source": [
    "# é uma tupla diz qunatas linhas a serie tem\n",
    "series_idades.shape"
   ]
  },
  {
   "cell_type": "code",
   "execution_count": 42,
   "id": "cee7c582-cda5-4f6e-89c2-fc028b48c852",
   "metadata": {},
   "outputs": [
    {
     "data": {
      "text/plain": [
       "t    30\n",
       "e    42\n",
       "o    90\n",
       "c    34\n",
       "dtype: int64"
      ]
     },
     "execution_count": 42,
     "metadata": {},
     "output_type": "execute_result"
    }
   ],
   "source": [
    "# da para alterar os index dos dados que e semopre a primeira coluna \n",
    "series_idades.index = ['t', 'e', 'o', 'c']\n",
    "series_idades"
   ]
  },
  {
   "cell_type": "code",
   "execution_count": 44,
   "id": "69298bf6-0987-4770-b099-4eeaf488810b",
   "metadata": {},
   "outputs": [
    {
     "data": {
      "text/plain": [
       "30"
      ]
     },
     "execution_count": 44,
     "metadata": {},
     "output_type": "execute_result"
    }
   ],
   "source": [
    "# navegando na seires, ele entrega a POSIÇÃO procurda idependente do indice\n",
    "series_idades.iloc[0]"
   ]
  },
  {
   "cell_type": "code",
   "execution_count": 50,
   "id": "5e4f996f-06ec-4a53-833f-79b1e7f1c909",
   "metadata": {},
   "outputs": [
    {
     "data": {
      "text/plain": [
       "t    30\n",
       "e    42\n",
       "o    90\n",
       "c    34\n",
       "Name: idades, dtype: int64"
      ]
     },
     "execution_count": 50,
     "metadata": {},
     "output_type": "execute_result"
    }
   ],
   "source": [
    "# como dar nome para a serie\n",
    "series_idades.name = 'idades'\n",
    "series_idades"
   ]
  },
  {
   "cell_type": "code",
   "execution_count": 54,
   "id": "ecb02dd3-9063-45e8-abb0-bb7724775500",
   "metadata": {},
   "outputs": [
    {
     "data": {
      "text/plain": [
       "0    30\n",
       "1    42\n",
       "2    90\n",
       "3    34\n",
       "Name: idades, dtype: int64"
      ]
     },
     "execution_count": 54,
     "metadata": {},
     "output_type": "execute_result"
    }
   ],
   "source": [
    "# É possivel criar o nome da seria assim que criada\n",
    "series_idades = pd.Series(idades, name= \"idades\")\n",
    "series_idades"
   ]
  },
  {
   "cell_type": "code",
   "execution_count": null,
   "id": "f4e32ac0-1fce-40a5-9ccb-112d65d8633a",
   "metadata": {},
   "outputs": [],
   "source": [
    "\n"
   ]
  }
 ],
 "metadata": {
  "kernelspec": {
   "display_name": "Python 3 (ipykernel)",
   "language": "python",
   "name": "python3"
  },
  "language_info": {
   "codemirror_mode": {
    "name": "ipython",
    "version": 3
   },
   "file_extension": ".py",
   "mimetype": "text/x-python",
   "name": "python",
   "nbconvert_exporter": "python",
   "pygments_lexer": "ipython3",
   "version": "3.12.4"
  }
 },
 "nbformat": 4,
 "nbformat_minor": 5
}
