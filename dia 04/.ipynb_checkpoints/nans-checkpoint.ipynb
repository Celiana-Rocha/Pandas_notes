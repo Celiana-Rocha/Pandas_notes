{
 "cells": [
  {
   "cell_type": "code",
   "execution_count": 3,
   "id": "ec08a2cf-8c22-49a9-a362-8c892d693f29",
   "metadata": {},
   "outputs": [],
   "source": [
    "import pandas as pd\n",
    "import numpy as np"
   ]
  },
  {
   "cell_type": "code",
   "execution_count": 5,
   "id": "c7d84503-7109-4b37-9a61-7bdef9399f1c",
   "metadata": {},
   "outputs": [
    {
     "data": {
      "text/html": [
       "<div>\n",
       "<style scoped>\n",
       "    .dataframe tbody tr th:only-of-type {\n",
       "        vertical-align: middle;\n",
       "    }\n",
       "\n",
       "    .dataframe tbody tr th {\n",
       "        vertical-align: top;\n",
       "    }\n",
       "\n",
       "    .dataframe thead th {\n",
       "        text-align: right;\n",
       "    }\n",
       "</style>\n",
       "<table border=\"1\" class=\"dataframe\">\n",
       "  <thead>\n",
       "    <tr style=\"text-align: right;\">\n",
       "      <th></th>\n",
       "      <th>nome</th>\n",
       "      <th>idade</th>\n",
       "      <th>renda</th>\n",
       "    </tr>\n",
       "  </thead>\n",
       "  <tbody>\n",
       "    <tr>\n",
       "      <th>0</th>\n",
       "      <td>Téo</td>\n",
       "      <td>31.0</td>\n",
       "      <td>NaN</td>\n",
       "    </tr>\n",
       "    <tr>\n",
       "      <th>1</th>\n",
       "      <td>Nah</td>\n",
       "      <td>32.0</td>\n",
       "      <td>3245.0</td>\n",
       "    </tr>\n",
       "    <tr>\n",
       "      <th>2</th>\n",
       "      <td>Lah</td>\n",
       "      <td>34.0</td>\n",
       "      <td>357.0</td>\n",
       "    </tr>\n",
       "    <tr>\n",
       "      <th>3</th>\n",
       "      <td>Mah</td>\n",
       "      <td>12.0</td>\n",
       "      <td>12432.0</td>\n",
       "    </tr>\n",
       "    <tr>\n",
       "      <th>4</th>\n",
       "      <td>Jo</td>\n",
       "      <td>NaN</td>\n",
       "      <td>NaN</td>\n",
       "    </tr>\n",
       "  </tbody>\n",
       "</table>\n",
       "</div>"
      ],
      "text/plain": [
       "  nome  idade    renda\n",
       "0  Téo   31.0      NaN\n",
       "1  Nah   32.0   3245.0\n",
       "2  Lah   34.0    357.0\n",
       "3  Mah   12.0  12432.0\n",
       "4   Jo    NaN      NaN"
      ]
     },
     "execution_count": 5,
     "metadata": {},
     "output_type": "execute_result"
    }
   ],
   "source": [
    "data = {\n",
    "    \"nome\": [\"Téo\", \"Nah\", \"Lah\", \"Mah\", \"Jo\"],\n",
    "    \"idade\": [31,32,34,12,np.nan],\n",
    "    \"renda\":[np.nan,3245,357,12432,np.nan]\n",
    "}\n",
    "\n",
    "df = pd.DataFrame(data)\n",
    "df"
   ]
  },
  {
   "cell_type": "markdown",
   "id": "74df0790-edfa-4800-a954-b75efda12a69",
   "metadata": {},
   "source": [
    "Explicação do código abaixo\n",
    "-\n",
    "\n",
    "estamos passando nosso dataframe na posição da coluna idade, logo após estamos verificando nao valores e somoando quantos nao valores apararecem."
   ]
  },
  {
   "cell_type": "code",
   "execution_count": 8,
   "id": "e5898c1e-1ee0-43b5-8534-16e4c8f64837",
   "metadata": {},
   "outputs": [
    {
     "data": {
      "text/plain": [
       "1"
      ]
     },
     "execution_count": 8,
     "metadata": {},
     "output_type": "execute_result"
    }
   ],
   "source": [
    "df[\"idade\"].isna().sum() "
   ]
  },
  {
   "cell_type": "markdown",
   "id": "1b192082-75cd-41db-9d51-d12645de92e7",
   "metadata": {},
   "source": [
    "quando passamos um df inteiro para um .isna() ele nos retorna o df mas com true ou false no caso a verificao dos valores naquela posicao."
   ]
  },
  {
   "cell_type": "code",
   "execution_count": 11,
   "id": "02b6af32-c5ca-44c9-8e79-faf2481cd042",
   "metadata": {},
   "outputs": [
    {
     "data": {
      "text/html": [
       "<div>\n",
       "<style scoped>\n",
       "    .dataframe tbody tr th:only-of-type {\n",
       "        vertical-align: middle;\n",
       "    }\n",
       "\n",
       "    .dataframe tbody tr th {\n",
       "        vertical-align: top;\n",
       "    }\n",
       "\n",
       "    .dataframe thead th {\n",
       "        text-align: right;\n",
       "    }\n",
       "</style>\n",
       "<table border=\"1\" class=\"dataframe\">\n",
       "  <thead>\n",
       "    <tr style=\"text-align: right;\">\n",
       "      <th></th>\n",
       "      <th>nome</th>\n",
       "      <th>idade</th>\n",
       "      <th>renda</th>\n",
       "    </tr>\n",
       "  </thead>\n",
       "  <tbody>\n",
       "    <tr>\n",
       "      <th>0</th>\n",
       "      <td>False</td>\n",
       "      <td>False</td>\n",
       "      <td>True</td>\n",
       "    </tr>\n",
       "    <tr>\n",
       "      <th>1</th>\n",
       "      <td>False</td>\n",
       "      <td>False</td>\n",
       "      <td>False</td>\n",
       "    </tr>\n",
       "    <tr>\n",
       "      <th>2</th>\n",
       "      <td>False</td>\n",
       "      <td>False</td>\n",
       "      <td>False</td>\n",
       "    </tr>\n",
       "    <tr>\n",
       "      <th>3</th>\n",
       "      <td>False</td>\n",
       "      <td>False</td>\n",
       "      <td>False</td>\n",
       "    </tr>\n",
       "    <tr>\n",
       "      <th>4</th>\n",
       "      <td>False</td>\n",
       "      <td>True</td>\n",
       "      <td>True</td>\n",
       "    </tr>\n",
       "  </tbody>\n",
       "</table>\n",
       "</div>"
      ],
      "text/plain": [
       "    nome  idade  renda\n",
       "0  False  False   True\n",
       "1  False  False  False\n",
       "2  False  False  False\n",
       "3  False  False  False\n",
       "4  False   True   True"
      ]
     },
     "execution_count": 11,
     "metadata": {},
     "output_type": "execute_result"
    }
   ],
   "source": [
    "df.isna()"
   ]
  },
  {
   "cell_type": "markdown",
   "id": "dcd93178-6728-40a9-9b9f-fdeb8605537a",
   "metadata": {},
   "source": [
    "quando ao inves de passarmos apenas uma coluna no isna, passarmos um df inteiro e soma-lo em seguida, obteremos um a serie aonde o indece sao os nomes das colunas e suas correspondencias sao os valoeres de nans dentro delas. \n",
    "\n",
    "isso porque .isna() nos retorna uma tabela, mas sum() retorna apenas as somas, no caso aqui vem com os nomes pois ele retorna os numeros de soma correspondete a tal local do DF."
   ]
  },
  {
   "cell_type": "code",
   "execution_count": 14,
   "id": "c920fdd9-1a55-47aa-b5d7-0ecaca865e76",
   "metadata": {},
   "outputs": [
    {
     "data": {
      "text/plain": [
       "nome     0\n",
       "idade    1\n",
       "renda    2\n",
       "dtype: int64"
      ]
     },
     "execution_count": 14,
     "metadata": {},
     "output_type": "execute_result"
    }
   ],
   "source": [
    "df.isna().sum()"
   ]
  },
  {
   "cell_type": "markdown",
   "id": "0e148a3f-5310-4a1c-a5fe-855183f1c666",
   "metadata": {},
   "source": [
    "se quisermos apenas uma medias de quantas vez aquilo aparece?\n",
    "-\n",
    "\n",
    "bom a melhor forma e por apos o isna(), ele passara no data frame e trara um booleano de nans e o .mean() fara uma media dos valores true de cada coluna, retornando uma serie com resultados de cada coluna."
   ]
  },
  {
   "cell_type": "code",
   "execution_count": 17,
   "id": "e9ea03dd-833e-4c2c-b910-691416412d80",
   "metadata": {},
   "outputs": [
    {
     "data": {
      "text/plain": [
       "nome     0.0\n",
       "idade    0.2\n",
       "renda    0.4\n",
       "dtype: float64"
      ]
     },
     "execution_count": 17,
     "metadata": {},
     "output_type": "execute_result"
    }
   ],
   "source": [
    "df.isna().mean()"
   ]
  },
  {
   "cell_type": "markdown",
   "id": "2513988d-a384-4f6f-99d7-e63f89756feb",
   "metadata": {},
   "source": [
    "como preencher os valores NANS?\n",
    "-\n",
    " usado para analise de dados apenas \n",
    "-\n",
    "de forma simples passamos um .filna() no df, para o tratamento dos NANs, podemos passar dentro dele um escalar EX: 0, como tbm um dicionario como no exemplo abaixo.\n",
    "\n",
    "explicacao do codigo abaixo\n",
    "\n",
    "- estamos passandoo df para um fillna que adiciona valores em valor NANs (nao valores), logo apos estamos passando uma lista informando que idade recebera nos seus valores nulos a tabela idade como parametro e em seguida definindo que sua media entrara nos valores (a media da coluna idade no total) e o mesmo para renda.\n",
    "- detalhe ele retorna um df novo"
   ]
  },
  {
   "cell_type": "code",
   "execution_count": 22,
   "id": "860ed088-e2c9-41be-91cc-3f369c435930",
   "metadata": {},
   "outputs": [
    {
     "data": {
      "text/html": [
       "<div>\n",
       "<style scoped>\n",
       "    .dataframe tbody tr th:only-of-type {\n",
       "        vertical-align: middle;\n",
       "    }\n",
       "\n",
       "    .dataframe tbody tr th {\n",
       "        vertical-align: top;\n",
       "    }\n",
       "\n",
       "    .dataframe thead th {\n",
       "        text-align: right;\n",
       "    }\n",
       "</style>\n",
       "<table border=\"1\" class=\"dataframe\">\n",
       "  <thead>\n",
       "    <tr style=\"text-align: right;\">\n",
       "      <th></th>\n",
       "      <th>nome</th>\n",
       "      <th>idade</th>\n",
       "      <th>renda</th>\n",
       "    </tr>\n",
       "  </thead>\n",
       "  <tbody>\n",
       "    <tr>\n",
       "      <th>0</th>\n",
       "      <td>Téo</td>\n",
       "      <td>31.00</td>\n",
       "      <td>5344.666667</td>\n",
       "    </tr>\n",
       "    <tr>\n",
       "      <th>1</th>\n",
       "      <td>Nah</td>\n",
       "      <td>32.00</td>\n",
       "      <td>3245.000000</td>\n",
       "    </tr>\n",
       "    <tr>\n",
       "      <th>2</th>\n",
       "      <td>Lah</td>\n",
       "      <td>34.00</td>\n",
       "      <td>357.000000</td>\n",
       "    </tr>\n",
       "    <tr>\n",
       "      <th>3</th>\n",
       "      <td>Mah</td>\n",
       "      <td>12.00</td>\n",
       "      <td>12432.000000</td>\n",
       "    </tr>\n",
       "    <tr>\n",
       "      <th>4</th>\n",
       "      <td>Jo</td>\n",
       "      <td>27.25</td>\n",
       "      <td>5344.666667</td>\n",
       "    </tr>\n",
       "  </tbody>\n",
       "</table>\n",
       "</div>"
      ],
      "text/plain": [
       "  nome  idade         renda\n",
       "0  Téo  31.00   5344.666667\n",
       "1  Nah  32.00   3245.000000\n",
       "2  Lah  34.00    357.000000\n",
       "3  Mah  12.00  12432.000000\n",
       "4   Jo  27.25   5344.666667"
      ]
     },
     "execution_count": 22,
     "metadata": {},
     "output_type": "execute_result"
    }
   ],
   "source": [
    "df.fillna({\n",
    "    \"idade\": df['idade'].mean(),\n",
    "    'renda': df['renda'].mean(),\n",
    "})"
   ]
  },
  {
   "cell_type": "markdown",
   "id": "c10f200f-2bf8-4530-83d4-78f9e19433dd",
   "metadata": {},
   "source": [
    "dropna remove a linha inteira que contenha um nans"
   ]
  },
  {
   "cell_type": "code",
   "execution_count": 26,
   "id": "2ced8e66-31e9-4ef6-a72c-4dd5a676e97d",
   "metadata": {},
   "outputs": [
    {
     "data": {
      "text/html": [
       "<div>\n",
       "<style scoped>\n",
       "    .dataframe tbody tr th:only-of-type {\n",
       "        vertical-align: middle;\n",
       "    }\n",
       "\n",
       "    .dataframe tbody tr th {\n",
       "        vertical-align: top;\n",
       "    }\n",
       "\n",
       "    .dataframe thead th {\n",
       "        text-align: right;\n",
       "    }\n",
       "</style>\n",
       "<table border=\"1\" class=\"dataframe\">\n",
       "  <thead>\n",
       "    <tr style=\"text-align: right;\">\n",
       "      <th></th>\n",
       "      <th>nome</th>\n",
       "      <th>idade</th>\n",
       "      <th>renda</th>\n",
       "    </tr>\n",
       "  </thead>\n",
       "  <tbody>\n",
       "    <tr>\n",
       "      <th>1</th>\n",
       "      <td>Nah</td>\n",
       "      <td>32.0</td>\n",
       "      <td>3245.0</td>\n",
       "    </tr>\n",
       "    <tr>\n",
       "      <th>2</th>\n",
       "      <td>Lah</td>\n",
       "      <td>34.0</td>\n",
       "      <td>357.0</td>\n",
       "    </tr>\n",
       "    <tr>\n",
       "      <th>3</th>\n",
       "      <td>Mah</td>\n",
       "      <td>12.0</td>\n",
       "      <td>12432.0</td>\n",
       "    </tr>\n",
       "  </tbody>\n",
       "</table>\n",
       "</div>"
      ],
      "text/plain": [
       "  nome  idade    renda\n",
       "1  Nah   32.0   3245.0\n",
       "2  Lah   34.0    357.0\n",
       "3  Mah   12.0  12432.0"
      ]
     },
     "execution_count": 26,
     "metadata": {},
     "output_type": "execute_result"
    }
   ],
   "source": [
    "df.dropna()"
   ]
  },
  {
   "cell_type": "markdown",
   "id": "78e6447c-2a8a-4aa4-a1ff-282154f30031",
   "metadata": {},
   "source": [
    "codigo abaixo explicado \n",
    "\n",
    "- estamos passsando o df em um dropna dentro dele passando um subset que seve para ele considerar fazer a busca e logo a pos passamos um how que determina que todas as linhas que contenhan nan deve remover.\n",
    "- o subset mantem todas as outras colunas nao especificadas iguais e nao mexe nelas, ele considera e mexe apenas nas especificdas.\n",
    "- 'vc vai remover as linhas em que tanto idade quanto renda sao NANs'\n",
    "\n",
    "- detalhe sobre how no subset quando colocamos 'all' estamos dizendo que para ele deletar a linha todas precisam ser a condicao, mas caso queira que ao menos uma seja necess"
   ]
  },
  {
   "cell_type": "code",
   "execution_count": 37,
   "id": "1267ab1f-405e-49ed-a8ee-47f68f4ebbbf",
   "metadata": {},
   "outputs": [
    {
     "data": {
      "text/html": [
       "<div>\n",
       "<style scoped>\n",
       "    .dataframe tbody tr th:only-of-type {\n",
       "        vertical-align: middle;\n",
       "    }\n",
       "\n",
       "    .dataframe tbody tr th {\n",
       "        vertical-align: top;\n",
       "    }\n",
       "\n",
       "    .dataframe thead th {\n",
       "        text-align: right;\n",
       "    }\n",
       "</style>\n",
       "<table border=\"1\" class=\"dataframe\">\n",
       "  <thead>\n",
       "    <tr style=\"text-align: right;\">\n",
       "      <th></th>\n",
       "      <th>nome</th>\n",
       "      <th>idade</th>\n",
       "      <th>renda</th>\n",
       "    </tr>\n",
       "  </thead>\n",
       "  <tbody>\n",
       "    <tr>\n",
       "      <th>0</th>\n",
       "      <td>Téo</td>\n",
       "      <td>31.0</td>\n",
       "      <td>NaN</td>\n",
       "    </tr>\n",
       "    <tr>\n",
       "      <th>1</th>\n",
       "      <td>Nah</td>\n",
       "      <td>32.0</td>\n",
       "      <td>3245.0</td>\n",
       "    </tr>\n",
       "    <tr>\n",
       "      <th>2</th>\n",
       "      <td>Lah</td>\n",
       "      <td>34.0</td>\n",
       "      <td>357.0</td>\n",
       "    </tr>\n",
       "    <tr>\n",
       "      <th>3</th>\n",
       "      <td>Mah</td>\n",
       "      <td>12.0</td>\n",
       "      <td>12432.0</td>\n",
       "    </tr>\n",
       "  </tbody>\n",
       "</table>\n",
       "</div>"
      ],
      "text/plain": [
       "  nome  idade    renda\n",
       "0  Téo   31.0      NaN\n",
       "1  Nah   32.0   3245.0\n",
       "2  Lah   34.0    357.0\n",
       "3  Mah   12.0  12432.0"
      ]
     },
     "execution_count": 37,
     "metadata": {},
     "output_type": "execute_result"
    }
   ],
   "source": [
    "df.dropna(subset= ['idade', 'renda'], how= 'all')"
   ]
  },
  {
   "cell_type": "markdown",
   "id": "33f21191-e208-4b8b-a02c-4aa751dddf01",
   "metadata": {},
   "source": [
    "explicacao do codigo abaixo\n",
    "\n",
    "- estamos passando df e um dropna que e utilizado para remover nans dentro dele estamos passando o axis = 1 que determina que sera lido linha por linha e um thresh que determina que levaram conta quantos valores nao nulos vao determinar se sera excluido ou nao no caso ali determinamos que cada coluna precisa de 3 para nao ser excluida.\n",
    "- exclua todos que a linha esteja nula e a coluna tenha menos de 3 nao nulos."
   ]
  },
  {
   "cell_type": "code",
   "execution_count": 48,
   "id": "5d3d168a-4594-4cc2-a252-6e58b5f5e585",
   "metadata": {},
   "outputs": [
    {
     "data": {
      "text/html": [
       "<div>\n",
       "<style scoped>\n",
       "    .dataframe tbody tr th:only-of-type {\n",
       "        vertical-align: middle;\n",
       "    }\n",
       "\n",
       "    .dataframe tbody tr th {\n",
       "        vertical-align: top;\n",
       "    }\n",
       "\n",
       "    .dataframe thead th {\n",
       "        text-align: right;\n",
       "    }\n",
       "</style>\n",
       "<table border=\"1\" class=\"dataframe\">\n",
       "  <thead>\n",
       "    <tr style=\"text-align: right;\">\n",
       "      <th></th>\n",
       "      <th>nome</th>\n",
       "      <th>idade</th>\n",
       "      <th>renda</th>\n",
       "    </tr>\n",
       "  </thead>\n",
       "  <tbody>\n",
       "    <tr>\n",
       "      <th>0</th>\n",
       "      <td>Téo</td>\n",
       "      <td>31.0</td>\n",
       "      <td>NaN</td>\n",
       "    </tr>\n",
       "    <tr>\n",
       "      <th>1</th>\n",
       "      <td>Nah</td>\n",
       "      <td>32.0</td>\n",
       "      <td>3245.0</td>\n",
       "    </tr>\n",
       "    <tr>\n",
       "      <th>2</th>\n",
       "      <td>Lah</td>\n",
       "      <td>34.0</td>\n",
       "      <td>357.0</td>\n",
       "    </tr>\n",
       "    <tr>\n",
       "      <th>3</th>\n",
       "      <td>Mah</td>\n",
       "      <td>12.0</td>\n",
       "      <td>12432.0</td>\n",
       "    </tr>\n",
       "    <tr>\n",
       "      <th>4</th>\n",
       "      <td>Jo</td>\n",
       "      <td>NaN</td>\n",
       "      <td>NaN</td>\n",
       "    </tr>\n",
       "  </tbody>\n",
       "</table>\n",
       "</div>"
      ],
      "text/plain": [
       "  nome  idade    renda\n",
       "0  Téo   31.0      NaN\n",
       "1  Nah   32.0   3245.0\n",
       "2  Lah   34.0    357.0\n",
       "3  Mah   12.0  12432.0\n",
       "4   Jo    NaN      NaN"
      ]
     },
     "execution_count": 48,
     "metadata": {},
     "output_type": "execute_result"
    }
   ],
   "source": [
    "df.dropna(axis=1, thresh =3)"
   ]
  }
 ],
 "metadata": {
  "kernelspec": {
   "display_name": "Python 3 (ipykernel)",
   "language": "python",
   "name": "python3"
  },
  "language_info": {
   "codemirror_mode": {
    "name": "ipython",
    "version": 3
   },
   "file_extension": ".py",
   "mimetype": "text/x-python",
   "name": "python",
   "nbconvert_exporter": "python",
   "pygments_lexer": "ipython3",
   "version": "3.12.4"
  }
 },
 "nbformat": 4,
 "nbformat_minor": 5
}
